{
  "nbformat": 4,
  "nbformat_minor": 0,
  "metadata": {
    "colab": {
      "provenance": [],
      "toc_visible": true
    },
    "kernelspec": {
      "name": "python3",
      "display_name": "Python 3"
    },
    "language_info": {
      "name": "python"
    }
  },
  "cells": [
    {
      "cell_type": "code",
      "execution_count": 4,
      "metadata": {
        "colab": {
          "base_uri": "https://localhost:8080/"
        },
        "id": "9rWoEkRK2oIL",
        "outputId": "987b34c5-1337-4a53-f4be-4892142da7ee"
      },
      "outputs": [
        {
          "output_type": "execute_result",
          "data": {
            "text/plain": [
              "array([ 4.5       -0.j        ,  2.08155948-1.65109876j,\n",
              "       -1.83155948+1.60822041j, -1.83155948-1.60822041j,\n",
              "        2.08155948+1.65109876j])"
            ]
          },
          "metadata": {},
          "execution_count": 4
        }
      ],
      "source": [
        "from scipy.fft import fft, ifft\n",
        "import numpy as np\n",
        "x = np.array([1.0, 2.0, 1.0, -1.0, 1.5])\n",
        "y = fft(x)\n",
        "y\n"
      ]
    },
    {
      "cell_type": "code",
      "source": [
        "yinv = ifft(y)\n",
        "yinv"
      ],
      "metadata": {
        "colab": {
          "base_uri": "https://localhost:8080/"
        },
        "id": "DFLwuQx33Vwi",
        "outputId": "c8ec967a-768a-476a-ea2e-fa1117938dbd"
      },
      "execution_count": 5,
      "outputs": [
        {
          "output_type": "execute_result",
          "data": {
            "text/plain": [
              "array([ 1. +0.j,  2. +0.j,  1. +0.j, -1. +0.j,  1.5+0.j])"
            ]
          },
          "metadata": {},
          "execution_count": 5
        }
      ]
    },
    {
      "cell_type": "code",
      "source": [
        "np.sum(x)"
      ],
      "metadata": {
        "colab": {
          "base_uri": "https://localhost:8080/"
        },
        "id": "2wfETqm83bE0",
        "outputId": "0011b15e-87de-4fab-887f-2f9c04a607f4"
      },
      "execution_count": 6,
      "outputs": [
        {
          "output_type": "execute_result",
          "data": {
            "text/plain": [
              "4.5"
            ]
          },
          "metadata": {},
          "execution_count": 6
        }
      ]
    },
    {
      "cell_type": "code",
      "source": [
        "from scipy.fft import fft, fftfreq\n",
        "import numpy as np\n",
        "# Number of sample points\n",
        "N = 600\n",
        "# sample spacing\n",
        "T = 1.0 / 800.0\n",
        "x = np.linspace(0.0, N*T, N, endpoint=False)\n",
        "y = np.sin(50.0 * 2.0*np.pi*x) + 0.5*np.sin(80.0 * 2.0*np.pi*x)\n",
        "yf = fft(y)\n",
        "xf = fftfreq(N, T)[:N//2]\n",
        "import matplotlib.pyplot as plt\n",
        "plt.plot(xf, 2.0/N * np.abs(yf[0:N//2]))\n",
        "plt.grid()\n",
        "plt.show()"
      ],
      "metadata": {
        "colab": {
          "base_uri": "https://localhost:8080/",
          "height": 265
        },
        "id": "kJOIUwT93bxO",
        "outputId": "6561ba39-6208-436e-9489-923d0562a0ee"
      },
      "execution_count": 8,
      "outputs": [
        {
          "output_type": "display_data",
          "data": {
            "text/plain": [
              "<Figure size 432x288 with 1 Axes>"
            ],
            "image/png": "[encoded data removed]"
          },
          "metadata": {
            "needs_background": "light"
          }
        }
      ]
    },
    {
      "cell_type": "code",
      "source": [
        "from scipy.fft import fft, fftfreq\n",
        "import numpy as np\n",
        "# Number of sample points\n",
        "N = 600\n",
        "# sample spacing\n",
        "T = 1.0 / 800.0\n",
        "x = np.linspace(0.0, N*T, N, endpoint=False)\n",
        "y = np.sin(50.0 * 2.0*np.pi*x) + 0.5*np.sin(80.0 * 2.0*np.pi*x)\n",
        "yf = fft(y)\n",
        "from scipy.signal import blackman\n",
        "w = blackman(N)\n",
        "ywf = fft(y*w)\n",
        "xf = fftfreq(N, T)[:N//2]\n",
        "import matplotlib.pyplot as plt\n",
        "plt.semilogy(xf[1:N//2], 2.0/N * np.abs(yf[1:N//2]), '-b')\n",
        "plt.semilogy(xf[1:N//2], 2.0/N * np.abs(ywf[1:N//2]), '-r')\n",
        "plt.legend(['FFT', 'FFT w. window'])\n",
        "plt.grid()\n",
        "plt.show()"
      ],
      "metadata": {
        "colab": {
          "base_uri": "https://localhost:8080/",
          "height": 265
        },
        "id": "WmutFrmv4JVA",
        "outputId": "0e6a3aea-e03d-4426-9e23-c2bce5fc375c"
      },
      "execution_count": 9,
      "outputs": [
        {
          "output_type": "display_data",
          "data": {
            "text/plain": [
              "<Figure size 432x288 with 1 Axes>"
            ],
            "image/png": "[encoded data removed]"
          },
          "metadata": {
            "needs_background": "light"
          }
        }
      ]
    },
    {
      "cell_type": "code",
      "source": [
        "from scipy.fft import fftfreq\n",
        "freq = fftfreq(8, 0.125)\n",
        "freq"
      ],
      "metadata": {
        "colab": {
          "base_uri": "https://localhost:8080/"
        },
        "id": "r8yKXOTP4PZ3",
        "outputId": "32347ad2-1aed-431d-eef8-5979085da888"
      },
      "execution_count": 10,
      "outputs": [
        {
          "output_type": "execute_result",
          "data": {
            "text/plain": [
              "array([ 0.,  1.,  2.,  3., -4., -3., -2., -1.])"
            ]
          },
          "metadata": {},
          "execution_count": 10
        }
      ]
    },
    {
      "cell_type": "code",
      "source": [
        "from scipy.fft import fftshift\n",
        "x = np.arange(8)\n",
        "fftshift(x)"
      ],
      "metadata": {
        "colab": {
          "base_uri": "https://localhost:8080/"
        },
        "id": "fJk_uEpO4Spg",
        "outputId": "202cbabf-f284-4ebb-d7e0-952a9b570e23"
      },
      "execution_count": 11,
      "outputs": [
        {
          "output_type": "execute_result",
          "data": {
            "text/plain": [
              "array([4, 5, 6, 7, 0, 1, 2, 3])"
            ]
          },
          "metadata": {},
          "execution_count": 11
        }
      ]
    },
    {
      "cell_type": "code",
      "source": [
        "from scipy.fft import fft, fftfreq, fftshift\n",
        "import numpy as np\n",
        "# number of signal points\n",
        "N = 400\n",
        "# sample spacing\n",
        "T = 1.0 / 800.0\n",
        "x = np.linspace(0.0, N*T, N, endpoint=False)\n",
        "y = np.exp(50.0 * 1.j * 2.0*np.pi*x) + 0.5*np.exp(-80.0 * 1.j * 2.0*np.pi*x)\n",
        "yf = fft(y)\n",
        "xf = fftfreq(N, T)\n",
        "xf = fftshift(xf)\n",
        "yplot = fftshift(yf)\n",
        "import matplotlib.pyplot as plt\n",
        "plt.plot(xf, 1.0/N * np.abs(yplot))\n",
        "plt.grid()\n",
        "plt.show()"
      ],
      "metadata": {
        "colab": {
          "base_uri": "https://localhost:8080/",
          "height": 265
        },
        "id": "Fm9O1sad4Z-c",
        "outputId": "17f48fe6-4027-4fed-c4ae-00512e536182"
      },
      "execution_count": 12,
      "outputs": [
        {
          "output_type": "display_data",
          "data": {
            "text/plain": [
              "<Figure size 432x288 with 1 Axes>"
            ],
            "image/png": "[encoded data removed]"
          },
          "metadata": {
            "needs_background": "light"
          }
        }
      ]
    },
    {
      "cell_type": "code",
      "source": [
        "from scipy.fft import fft, rfft, irfft\n",
        "x = np.array([1.0, 2.0, 1.0, -1.0, 1.5, 1.0])\n",
        "fft(x)"
      ],
      "metadata": {
        "colab": {
          "base_uri": "https://localhost:8080/"
        },
        "id": "4OJ0jQ2-4g5e",
        "outputId": "bc4fdcfd-a6c0-41bd-ecdb-d569f2d67d5a"
      },
      "execution_count": 13,
      "outputs": [
        {
          "output_type": "execute_result",
          "data": {
            "text/plain": [
              "array([ 5.5 -0.j        ,  2.25-0.4330127j , -2.75-1.29903811j,\n",
              "        1.5 -0.j        , -2.75+1.29903811j,  2.25+0.4330127j ])"
            ]
          },
          "metadata": {},
          "execution_count": 13
        }
      ]
    },
    {
      "cell_type": "code",
      "source": [
        "yr = rfft(x)\n",
        "yr"
      ],
      "metadata": {
        "colab": {
          "base_uri": "https://localhost:8080/"
        },
        "id": "XmXHBnI-4h3g",
        "outputId": "b14a20cf-567f-4495-f903-182d1e404557"
      },
      "execution_count": 14,
      "outputs": [
        {
          "output_type": "execute_result",
          "data": {
            "text/plain": [
              "array([ 5.5 +0.j        ,  2.25-0.4330127j , -2.75-1.29903811j,\n",
              "        1.5 +0.j        ])"
            ]
          },
          "metadata": {},
          "execution_count": 14
        }
      ]
    },
    {
      "cell_type": "code",
      "source": [
        "irfft(yr)"
      ],
      "metadata": {
        "colab": {
          "base_uri": "https://localhost:8080/"
        },
        "id": "Ezt-3PAk4q6R",
        "outputId": "708a4bbb-a3c9-408b-fb30-a050197a1da7"
      },
      "execution_count": 15,
      "outputs": [
        {
          "output_type": "execute_result",
          "data": {
            "text/plain": [
              "array([ 1. ,  2. ,  1. , -1. ,  1.5,  1. ])"
            ]
          },
          "metadata": {},
          "execution_count": 15
        }
      ]
    },
    {
      "cell_type": "code",
      "source": [
        "x = np.array([1.0, 2.0, 1.0, -1.0, 1.5])\n",
        "fft(x)"
      ],
      "metadata": {
        "colab": {
          "base_uri": "https://localhost:8080/"
        },
        "id": "qR2n8rFa4thJ",
        "outputId": "1a92b749-6f2a-406a-c1a6-bcb6d1437424"
      },
      "execution_count": 16,
      "outputs": [
        {
          "output_type": "execute_result",
          "data": {
            "text/plain": [
              "array([ 4.5       -0.j        ,  2.08155948-1.65109876j,\n",
              "       -1.83155948+1.60822041j, -1.83155948-1.60822041j,\n",
              "        2.08155948+1.65109876j])"
            ]
          },
          "metadata": {},
          "execution_count": 16
        }
      ]
    },
    {
      "cell_type": "code",
      "source": [
        "yr = rfft(x)\n",
        "yr"
      ],
      "metadata": {
        "colab": {
          "base_uri": "https://localhost:8080/"
        },
        "id": "2XHa_Rew4wKw",
        "outputId": "4e301bc2-0d8d-4b44-878c-7de4d5c46892"
      },
      "execution_count": 17,
      "outputs": [
        {
          "output_type": "execute_result",
          "data": {
            "text/plain": [
              "array([ 4.5       +0.j        ,  2.08155948-1.65109876j,\n",
              "       -1.83155948+1.60822041j])"
            ]
          },
          "metadata": {},
          "execution_count": 17
        }
      ]
    },
    {
      "cell_type": "code",
      "source": [
        "irfft(yr)"
      ],
      "metadata": {
        "colab": {
          "base_uri": "https://localhost:8080/"
        },
        "id": "NRa76ELa4y5_",
        "outputId": "4efeab94-7e62-4088-e19c-b62205f22d5b"
      },
      "execution_count": 18,
      "outputs": [
        {
          "output_type": "execute_result",
          "data": {
            "text/plain": [
              "array([ 1.70788987,  2.40843925, -0.37366961,  0.75734049])"
            ]
          },
          "metadata": {},
          "execution_count": 18
        }
      ]
    },
    {
      "cell_type": "code",
      "source": [
        "irfft(yr, n=len(x))"
      ],
      "metadata": {
        "colab": {
          "base_uri": "https://localhost:8080/"
        },
        "id": "LYMzhiLv41rZ",
        "outputId": "87bbc5a3-f18b-4433-ed7b-bee901a3d77d"
      },
      "execution_count": 19,
      "outputs": [
        {
          "output_type": "execute_result",
          "data": {
            "text/plain": [
              "array([ 1. ,  2. ,  1. , -1. ,  1.5])"
            ]
          },
          "metadata": {},
          "execution_count": 19
        }
      ]
    },
    {
      "cell_type": "code",
      "source": [
        "from scipy.fft import ifftn\n",
        "import matplotlib.pyplot as plt\n",
        "import matplotlib.cm as cm\n",
        "import numpy as np\n",
        "N = 30\n",
        "f, ((ax1, ax2, ax3), (ax4, ax5, ax6)) = plt.subplots(2, 3, sharex='col', sharey='row')\n",
        "xf = np.zeros((N,N))\n",
        "xf[0, 5] = 1\n",
        "xf[0, N-5] = 1\n",
        "Z = ifftn(xf)\n",
        "ax1.imshow(xf, cmap=cm.Reds)\n",
        "ax4.imshow(np.real(Z), cmap=cm.gray)\n",
        "xf = np.zeros((N, N))\n",
        "xf[5, 0] = 1\n",
        "xf[N-5, 0] = 1\n",
        "Z = ifftn(xf)\n",
        "ax2.imshow(xf, cmap=cm.Reds)\n",
        "ax5.imshow(np.real(Z), cmap=cm.gray)\n",
        "xf = np.zeros((N, N))\n",
        "xf[5, 10] = 1\n",
        "xf[N-5, N-10] = 1\n",
        "Z = ifftn(xf)\n",
        "ax3.imshow(xf, cmap=cm.Reds)\n",
        "ax6.imshow(np.real(Z), cmap=cm.gray)\n",
        "plt.show()"
      ],
      "metadata": {
        "colab": {
          "base_uri": "https://localhost:8080/",
          "height": 267
        },
        "id": "whSdJKx74_uq",
        "outputId": "1ade2a81-6f95-44c7-dbf6-4f482f496307"
      },
      "execution_count": 20,
      "outputs": [
        {
          "output_type": "display_data",
          "data": {
            "text/plain": [
              "<Figure size 432x288 with 6 Axes>"
            ],
            "image/png": "[encoded data removed]"
          },
          "metadata": {
            "needs_background": "light"
          }
        }
      ]
    },
    {
      "cell_type": "code",
      "source": [
        "from scipy.fft import dct, idct\n",
        "x = np.array([1.0, 2.0, 1.0, -1.0, 1.5])\n",
        "dct(dct(x, type=2, norm='ortho'), type=3, norm='ortho')"
      ],
      "metadata": {
        "colab": {
          "base_uri": "https://localhost:8080/"
        },
        "id": "8y9Ivf0_5SNJ",
        "outputId": "ff609977-e676-43a9-f6f1-d9b5b7483fb2"
      },
      "execution_count": 22,
      "outputs": [
        {
          "output_type": "execute_result",
          "data": {
            "text/plain": [
              "array([ 1. ,  2. ,  1. , -1. ,  1.5])"
            ]
          },
          "metadata": {},
          "execution_count": 22
        }
      ]
    },
    {
      "cell_type": "code",
      "source": [
        "dct(dct(x, type=2), type=3)"
      ],
      "metadata": {
        "colab": {
          "base_uri": "https://localhost:8080/"
        },
        "id": "kbq6pPg35XnP",
        "outputId": "d082fa64-e1d2-4d39-c26f-5ace7f6a9fd7"
      },
      "execution_count": 23,
      "outputs": [
        {
          "output_type": "execute_result",
          "data": {
            "text/plain": [
              "array([ 10.,  20.,  10., -10.,  15.])"
            ]
          },
          "metadata": {},
          "execution_count": 23
        }
      ]
    },
    {
      "cell_type": "code",
      "source": [
        "# Normalized inverse: no scaling factor\n",
        "idct(dct(x, type=2), type=2)"
      ],
      "metadata": {
        "colab": {
          "base_uri": "https://localhost:8080/"
        },
        "id": "0_gjsNjd5ZkG",
        "outputId": "204b69ac-7419-4f83-986e-f7d2dd9af455"
      },
      "execution_count": 24,
      "outputs": [
        {
          "output_type": "execute_result",
          "data": {
            "text/plain": [
              "array([ 1. ,  2. ,  1. , -1. ,  1.5])"
            ]
          },
          "metadata": {},
          "execution_count": 24
        }
      ]
    },
    {
      "cell_type": "code",
      "source": [
        "dct(dct(x, type=1, norm='ortho'), type=1, norm='ortho')"
      ],
      "metadata": {
        "colab": {
          "base_uri": "https://localhost:8080/"
        },
        "id": "34tRlk5u5cR2",
        "outputId": "bca5c999-a99f-4060-85b1-a72f96c10555"
      },
      "execution_count": 25,
      "outputs": [
        {
          "output_type": "execute_result",
          "data": {
            "text/plain": [
              "array([ 1. ,  2. ,  1. , -1. ,  1.5])"
            ]
          },
          "metadata": {},
          "execution_count": 25
        }
      ]
    },
    {
      "cell_type": "code",
      "source": [
        "# Unnormalized round-trip via DCT-I: scaling factor 2*(N-1) = 8\n",
        "dct(dct(x, type=1), type=1)"
      ],
      "metadata": {
        "colab": {
          "base_uri": "https://localhost:8080/"
        },
        "id": "Dl12ZIlT5e1F",
        "outputId": "c7db9cc8-817f-42a3-89bc-0f7b1bac928f"
      },
      "execution_count": 26,
      "outputs": [
        {
          "output_type": "execute_result",
          "data": {
            "text/plain": [
              "array([ 8., 16.,  8., -8., 12.])"
            ]
          },
          "metadata": {},
          "execution_count": 26
        }
      ]
    },
    {
      "cell_type": "code",
      "source": [
        "# Normalized inverse: no scaling factor\n",
        "idct(dct(x, type=1), type=1)"
      ],
      "metadata": {
        "colab": {
          "base_uri": "https://localhost:8080/"
        },
        "id": "HO5M61Hs5hGO",
        "outputId": "8cd693ba-883b-440d-aaef-f2948ed1bdd5"
      },
      "execution_count": 27,
      "outputs": [
        {
          "output_type": "execute_result",
          "data": {
            "text/plain": [
              "array([ 1. ,  2. ,  1. , -1. ,  1.5])"
            ]
          },
          "metadata": {},
          "execution_count": 27
        }
      ]
    },
    {
      "cell_type": "code",
      "source": [
        "dct(dct(x, type=4, norm='ortho'), type=4, norm='ortho')"
      ],
      "metadata": {
        "colab": {
          "base_uri": "https://localhost:8080/"
        },
        "id": "aYAEAZze5lD_",
        "outputId": "c17c33a8-d32f-4b63-bc5e-5f9f226178b0"
      },
      "execution_count": 28,
      "outputs": [
        {
          "output_type": "execute_result",
          "data": {
            "text/plain": [
              "array([ 1. ,  2. ,  1. , -1. ,  1.5])"
            ]
          },
          "metadata": {},
          "execution_count": 28
        }
      ]
    },
    {
      "cell_type": "code",
      "source": [
        "# Unnormalized round-trip via DCT-IV: scaling factor 2*N = 10\n",
        "dct(dct(x, type=4), type=4)"
      ],
      "metadata": {
        "colab": {
          "base_uri": "https://localhost:8080/"
        },
        "id": "6y-cRKKc5nh8",
        "outputId": "6c3b8f12-6ddc-4ebd-89e3-d0a2fd421513"
      },
      "execution_count": 29,
      "outputs": [
        {
          "output_type": "execute_result",
          "data": {
            "text/plain": [
              "array([ 10.,  20.,  10., -10.,  15.])"
            ]
          },
          "metadata": {},
          "execution_count": 29
        }
      ]
    },
    {
      "cell_type": "code",
      "source": [
        "# Normalized inverse: no scaling factor\n",
        "idct(dct(x, type=4), type=4)"
      ],
      "metadata": {
        "colab": {
          "base_uri": "https://localhost:8080/"
        },
        "id": "849foMU95rXH",
        "outputId": "f72b2bde-40be-498e-959a-cf341663f840"
      },
      "execution_count": 30,
      "outputs": [
        {
          "output_type": "execute_result",
          "data": {
            "text/plain": [
              "array([ 1. ,  2. ,  1. , -1. ,  1.5])"
            ]
          },
          "metadata": {},
          "execution_count": 30
        }
      ]
    },
    {
      "cell_type": "code",
      "source": [
        "from scipy.fft import dct, idct\n",
        "import matplotlib.pyplot as plt\n",
        "N = 100\n",
        "t = np.linspace(0,20,N, endpoint=False)\n",
        "x = np.exp(-t/3)*np.cos(2*t)\n",
        "y = dct(x, norm='ortho')\n",
        "window = np.zeros(N)\n",
        "window[:20] = 1\n",
        "yr = idct(y*window, norm='ortho')\n",
        "sum(abs(x-yr)**2) / sum(abs(x)**2)"
      ],
      "metadata": {
        "colab": {
          "base_uri": "https://localhost:8080/"
        },
        "id": "7t4UklTJ5tu1",
        "outputId": "43dee7fd-28bc-428f-f682-de64034fef66"
      },
      "execution_count": 32,
      "outputs": [
        {
          "output_type": "execute_result",
          "data": {
            "text/plain": [
              "0.0009872817275276098"
            ]
          },
          "metadata": {},
          "execution_count": 32
        }
      ]
    },
    {
      "cell_type": "code",
      "source": [
        "plt.plot(t, x, '-bx')\n",
        "plt.plot(t, yr, 'ro')\n",
        "window = np.zeros(N)\n",
        "window[:15] = 1\n",
        "yr = idct(y*window, norm='ortho')\n",
        "sum(abs(x-yr)**2) / sum(abs(x)**2)\n",
        "plt.plot(t, yr, 'g+')\n",
        "plt.legend(['x', '$x_{20}$', '$x_{15}$'])\n",
        "plt.grid()\n",
        "plt.show()"
      ],
      "metadata": {
        "colab": {
          "base_uri": "https://localhost:8080/",
          "height": 265
        },
        "id": "LEnfetEj52m0",
        "outputId": "19169a75-f79b-4132-d5ea-b13f51ad1438"
      },
      "execution_count": 35,
      "outputs": [
        {
          "output_type": "display_data",
          "data": {
            "text/plain": [
              "<Figure size 432x288 with 1 Axes>"
            ],
            "image/png": "[encoded data removed]"
          },
          "metadata": {
            "needs_background": "light"
          }
        }
      ]
    },
    {
      "cell_type": "code",
      "source": [
        "from scipy.fft import dst, idst\n",
        "x = np.array([1.0, 2.0, 1.0, -1.0, 1.5])\n",
        "dst(dst(x, type=2, norm='ortho'), type=3, norm='ortho')"
      ],
      "metadata": {
        "colab": {
          "base_uri": "https://localhost:8080/"
        },
        "id": "YjGvQW396AUs",
        "outputId": "ee197ebb-eec3-4d60-a997-d67fe2d0a732"
      },
      "execution_count": 37,
      "outputs": [
        {
          "output_type": "execute_result",
          "data": {
            "text/plain": [
              "array([ 1. ,  2. ,  1. , -1. ,  1.5])"
            ]
          },
          "metadata": {},
          "execution_count": 37
        }
      ]
    },
    {
      "cell_type": "code",
      "source": [
        "dst(dst(x, type=2), type=3)"
      ],
      "metadata": {
        "colab": {
          "base_uri": "https://localhost:8080/"
        },
        "id": "mCBiu-1u6ILC",
        "outputId": "7f87784e-231d-4fe4-ff04-90be2af59826"
      },
      "execution_count": 38,
      "outputs": [
        {
          "output_type": "execute_result",
          "data": {
            "text/plain": [
              "array([ 10.,  20.,  10., -10.,  15.])"
            ]
          },
          "metadata": {},
          "execution_count": 38
        }
      ]
    },
    {
      "cell_type": "code",
      "source": [
        "idst(dst(x, type=2), type=2)"
      ],
      "metadata": {
        "colab": {
          "base_uri": "https://localhost:8080/"
        },
        "id": "A2xLtSea6L5r",
        "outputId": "b5dcc56c-92b5-4c60-c411-6fcc2d4dc76b"
      },
      "execution_count": 39,
      "outputs": [
        {
          "output_type": "execute_result",
          "data": {
            "text/plain": [
              "array([ 1. ,  2. ,  1. , -1. ,  1.5])"
            ]
          },
          "metadata": {},
          "execution_count": 39
        }
      ]
    },
    {
      "cell_type": "code",
      "source": [
        "dst(dst(x, type=1, norm='ortho'), type=1, norm='ortho')"
      ],
      "metadata": {
        "colab": {
          "base_uri": "https://localhost:8080/"
        },
        "id": "1u535aNh6OHg",
        "outputId": "9bcee21d-cba0-47a6-98d6-9f8a63eb9162"
      },
      "execution_count": 40,
      "outputs": [
        {
          "output_type": "execute_result",
          "data": {
            "text/plain": [
              "array([ 1. ,  2. ,  1. , -1. ,  1.5])"
            ]
          },
          "metadata": {},
          "execution_count": 40
        }
      ]
    },
    {
      "cell_type": "code",
      "source": [
        " # scaling factor 2*(N+1) = 12\n",
        "dst(dst(x, type=1), type=1)"
      ],
      "metadata": {
        "colab": {
          "base_uri": "https://localhost:8080/"
        },
        "id": "Kz0XhlSY6QS2",
        "outputId": "73ab5300-0ef9-407d-989e-326f18fa026e"
      },
      "execution_count": 41,
      "outputs": [
        {
          "output_type": "execute_result",
          "data": {
            "text/plain": [
              "array([ 12.,  24.,  12., -12.,  18.])"
            ]
          },
          "metadata": {},
          "execution_count": 41
        }
      ]
    },
    {
      "cell_type": "code",
      "source": [
        " # no scaling factor\n",
        "idst(dst(x, type=1), type=1)"
      ],
      "metadata": {
        "colab": {
          "base_uri": "https://localhost:8080/"
        },
        "id": "7sl6pHu16T1f",
        "outputId": "09f0201b-94b4-4cd3-efa2-bf2d6f3e166e"
      },
      "execution_count": 42,
      "outputs": [
        {
          "output_type": "execute_result",
          "data": {
            "text/plain": [
              "array([ 1. ,  2. ,  1. , -1. ,  1.5])"
            ]
          },
          "metadata": {},
          "execution_count": 42
        }
      ]
    },
    {
      "cell_type": "code",
      "source": [
        "dst(dst(x, type=4, norm='ortho'), type=4, norm='ortho')"
      ],
      "metadata": {
        "colab": {
          "base_uri": "https://localhost:8080/"
        },
        "id": "YRfpLTMm6dcp",
        "outputId": "af2de2d6-e14e-4c64-8d33-6040a7cfbdd8"
      },
      "execution_count": 43,
      "outputs": [
        {
          "output_type": "execute_result",
          "data": {
            "text/plain": [
              "array([ 1. ,  2. ,  1. , -1. ,  1.5])"
            ]
          },
          "metadata": {},
          "execution_count": 43
        }
      ]
    },
    {
      "cell_type": "code",
      "source": [
        " # scaling factor 2*N = 10\n",
        "dst(dst(x, type=4), type=4)"
      ],
      "metadata": {
        "colab": {
          "base_uri": "https://localhost:8080/"
        },
        "id": "G2oKGDWH6eak",
        "outputId": "434566f5-e8de-4310-c242-903eb07be42f"
      },
      "execution_count": 45,
      "outputs": [
        {
          "output_type": "execute_result",
          "data": {
            "text/plain": [
              "array([ 10.,  20.,  10., -10.,  15.])"
            ]
          },
          "metadata": {},
          "execution_count": 45
        }
      ]
    },
    {
      "cell_type": "code",
      "source": [
        " # no scaling factor\n",
        "idst(dst(x, type=4), type=4)"
      ],
      "metadata": {
        "colab": {
          "base_uri": "https://localhost:8080/"
        },
        "id": "XyNWST4V6gfZ",
        "outputId": "ac2d7754-95d4-471a-de83-5f6842817854"
      },
      "execution_count": 46,
      "outputs": [
        {
          "output_type": "execute_result",
          "data": {
            "text/plain": [
              "array([ 1. ,  2. ,  1. , -1. ,  1.5])"
            ]
          },
          "metadata": {},
          "execution_count": 46
        }
      ]
    },
    {
      "cell_type": "code",
      "source": [],
      "metadata": {
        "id": "uSV5NS486pz9"
      },
      "execution_count": null,
      "outputs": []
    }
  ]
}